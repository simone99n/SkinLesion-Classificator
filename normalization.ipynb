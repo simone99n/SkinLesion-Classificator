{
 "cells": [
  {
   "cell_type": "code",
   "execution_count": 1,
   "outputs": [],
   "source": [
    "from tqdm import tqdm\n",
    "from skimage.io import imread\n",
    "import torch\n",
    "from PIL import Image\n",
    "from glob import glob\n",
    "import pandas as pd\n",
    "import numpy as np\n",
    "import os\n",
    "import torch.utils.data\n",
    "import torchvision.transforms as trf"
   ],
   "metadata": {
    "collapsed": false,
    "pycharm": {
     "name": "#%%\n"
    }
   }
  },
  {
   "cell_type": "code",
   "execution_count": 2,
   "outputs": [],
   "source": [
    "class DatasetCustom(torch.utils.data.Dataset):\n",
    "    \"\"\"Characterizes a dataset for PyTorch\"\"\"\n",
    "    def __init__(self, df, transform=None):\n",
    "        \"\"\"Initialization\"\"\"\n",
    "        self.df = df\n",
    "        self.transform = transform\n",
    "\n",
    "    def __len__(self):\n",
    "        \"\"\"Denotes the total number of samples\"\"\"\n",
    "        return len(self.df)\n",
    "\n",
    "    def __getitem__(self, index):\n",
    "        \"\"\"Generates one sample of data\"\"\"\n",
    "        # Load data and get label\n",
    "        img = Image.open(self.df['path'][index])\n",
    "        label = torch.tensor(int(self.df['cell_type_idx'][index]))\n",
    "\n",
    "        if self.transform:\n",
    "            img = self.transform(img)\n",
    "\n",
    "        return img, label"
   ],
   "metadata": {
    "collapsed": false,
    "pycharm": {
     "name": "#%%\n"
    }
   }
  },
  {
   "cell_type": "code",
   "execution_count": 3,
   "outputs": [],
   "source": [
    "#dictionary lesion type\n",
    "lesion_type_dict = {\n",
    "    'nv': 'Melanocytic nevi',\n",
    "    'mel': 'Melanoma',\n",
    "    'bkl': 'Benign keratosis-like lesions',\n",
    "    'bcc': 'Basal cell carcinoma',\n",
    "    'akiec': 'Actinic keratoses',\n",
    "    'vasc': 'Vascular lesions',\n",
    "    'df': 'Dermatofibroma'\n",
    "}\n",
    "\n",
    "# define directory\n",
    "train_skin_dir = os.path.join('../../../', 'HAM10000')\n",
    "\n",
    "#dictionary {imageid : path}\n",
    "imageid_path_dict = {os.path.splitext(os.path.basename(x))[0]: x\n",
    "                     for x in glob(os.path.join(train_skin_dir, '*', '*.jpg'))}"
   ],
   "metadata": {
    "collapsed": false,
    "pycharm": {
     "name": "#%%\n"
    }
   }
  },
  {
   "cell_type": "code",
   "execution_count": 4,
   "outputs": [],
   "source": [
    "tile_df = pd.read_csv(os.path.join(train_skin_dir, 'metadata.csv')) #read csv\n",
    "tile_df['cell_type'] = tile_df['dx'].map(lesion_type_dict.get) #lesion type code full name\n",
    "tile_df['cell_type_idx'] = pd.Categorical(tile_df['cell_type']).codes #lesion type\n",
    "tile_df['path'] = tile_df['image_id'].map(imageid_path_dict.get) #path of image\n",
    "tile_df = tile_df.drop(['dx', 'dx_type', 'age', 'sex', 'localization', 'lesion_id'], axis=1) #drop columns"
   ],
   "metadata": {
    "collapsed": false,
    "pycharm": {
     "name": "#%%\n"
    }
   }
  },
  {
   "cell_type": "code",
   "execution_count": 5,
   "outputs": [],
   "source": [
    "tile_df['image'] = tile_df['path'].map(imread)"
   ],
   "metadata": {
    "collapsed": false,
    "pycharm": {
     "name": "#%% load in all of the images\n"
    }
   }
  },
  {
   "cell_type": "code",
   "execution_count": 6,
   "outputs": [],
   "source": [
    "for i in range(len(tile_df)):\n",
    "    if tile_df['cell_type_idx'][i] in [0, 1, 2, 3, 5, 6]: #extend all categories except for nevus\n",
    "        img_np = tile_df['image'][i]\n",
    "        img = Image.fromarray(img_np.astype('uint8'), 'RGB')\n",
    "        img2 = img.transpose(Image.ROTATE_90)\n",
    "        img3 = img.transpose(Image.ROTATE_180)\n",
    "        img4 = img.transpose(Image.ROTATE_270)\n",
    "\n",
    "        tile_df.loc[len(tile_df.index)] = [tile_df['image_id'][i],\n",
    "                                           tile_df['cell_type'][i],\n",
    "                                           tile_df['cell_type_idx'][i],\n",
    "                                           tile_df['path'][i],\n",
    "                                           np.array(img2)]\n",
    "\n",
    "        tile_df.loc[len(tile_df.index)] = [tile_df['image_id'][i],\n",
    "                                           tile_df['cell_type'][i],\n",
    "                                           tile_df['cell_type_idx'][i],\n",
    "                                           tile_df['path'][i],\n",
    "                                           np.array(img3)]\n",
    "\n",
    "        tile_df.loc[len(tile_df.index)] = [tile_df['image_id'][i],\n",
    "                                           tile_df['cell_type'][i],\n",
    "                                           tile_df['cell_type_idx'][i],\n",
    "                                           tile_df['path'][i],\n",
    "                                           np.array(img4)]"
   ],
   "metadata": {
    "collapsed": false,
    "pycharm": {
     "name": "#%%\n"
    }
   }
  },
  {
   "cell_type": "code",
   "execution_count": 7,
   "outputs": [],
   "source": [
    "#tile_df[['cell_type_idx', 'cell_type']].sort_values('cell_type_idx').drop_duplicates()"
   ],
   "metadata": {
    "collapsed": false,
    "pycharm": {
     "name": "#%%\n"
    }
   }
  },
  {
   "cell_type": "code",
   "execution_count": 8,
   "outputs": [],
   "source": [
    "composed = trf.Compose([trf.ColorJitter(contrast=(1.4, 1.5)), trf.Resize(300), trf.CenterCrop(224), trf.ToTensor(),\n",
    "                        trf.Normalize(mean=[0, 0, 0], std=[1, 1, 1])])\n",
    "\n",
    "tile_set = DatasetCustom(tile_df, transform=composed)\n",
    "tile_generator = torch.utils.data.DataLoader(tile_set, batch_size=16, shuffle=True)"
   ],
   "metadata": {
    "collapsed": false,
    "pycharm": {
     "name": "#%%\n"
    }
   }
  },
  {
   "cell_type": "code",
   "execution_count": 9,
   "outputs": [],
   "source": [
    "####### COMPUTE MEAN / STD\n",
    "\n",
    "# placeholders\n",
    "psum    = torch.tensor([0.0, 0.0, 0.0])\n",
    "psum_sq = torch.tensor([0.0, 0.0, 0.0])\n",
    "\n",
    "# a = tile_df['image'].mean(axis = [1, 2])\n",
    "# print(a)\n",
    "# loop through images\n",
    "\n",
    "for image, label in tile_generator:\n",
    "    psum    += image.sum(axis        = [0, 2, 3])\n",
    "    psum_sq += (image ** 2).sum(axis = [0, 2, 3])"
   ],
   "metadata": {
    "collapsed": false,
    "pycharm": {
     "name": "#%%\n"
    }
   }
  },
  {
   "cell_type": "code",
   "execution_count": 10,
   "outputs": [
    {
     "name": "stdout",
     "output_type": "stream",
     "text": [
      "mean: tensor([0.7708, 0.4684, 0.4987])\n",
      "std:  tensor([0.1907, 0.2218, 0.2520])\n"
     ]
    }
   ],
   "source": [
    "####### FINAL CALCULATIONS\n",
    "\n",
    "# pixel count\n",
    "count = len(tile_df) * 224 * 224\n",
    "\n",
    "# mean and std\n",
    "total_mean = psum / count\n",
    "total_var  = (psum_sq / count) - (total_mean ** 2)\n",
    "total_std  = torch.sqrt(total_var)\n",
    "\n",
    "# output\n",
    "print('mean: '  + str(total_mean))\n",
    "print('std:  '  + str(total_std))"
   ],
   "metadata": {
    "collapsed": false,
    "pycharm": {
     "name": "#%%\n"
    }
   }
  }
 ],
 "metadata": {
  "kernelspec": {
   "display_name": "Python 3",
   "language": "python",
   "name": "python3"
  },
  "language_info": {
   "codemirror_mode": {
    "name": "ipython",
    "version": 2
   },
   "file_extension": ".py",
   "mimetype": "text/x-python",
   "name": "python",
   "nbconvert_exporter": "python",
   "pygments_lexer": "ipython2",
   "version": "2.7.6"
  }
 },
 "nbformat": 4,
 "nbformat_minor": 0
}
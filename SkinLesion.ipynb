{
 "cells": [
  {
   "cell_type": "code",
   "execution_count": 1,
   "metadata": {
    "collapsed": true
   },
   "outputs": [
    {
     "name": "stdout",
     "output_type": "stream",
     "text": [
      "Using device: cuda:0\n"
     ]
    }
   ],
   "source": [
    "from sklearn.model_selection import train_test_split\n",
    "from sklearn.metrics import confusion_matrix\n",
    "from skimage.io import imread\n",
    "from datetime import datetime\n",
    "from PIL import Image\n",
    "from glob import glob\n",
    "import torchvision.transforms as trf\n",
    "import torchvision.models as models\n",
    "import matplotlib.pyplot as plt\n",
    "import torch.utils.data\n",
    "import torch.utils.data\n",
    "import seaborn as sns\n",
    "import pandas as pd\n",
    "import numpy as np\n",
    "import torch.utils\n",
    "import torch\n",
    "import os\n",
    "\n",
    "date = datetime.now().date()\n",
    "timeh = datetime.now().time().hour\n",
    "timem = datetime.now().time().minute\n",
    "\n",
    "device = torch.device(\"cuda:0\" if torch.cuda.is_available() else \"cpu\") #GPU\n",
    "print(f'Using device: {device}')"
   ]
  },
  {
   "cell_type": "code",
   "execution_count": 2,
   "outputs": [],
   "source": [
    "#dictionary lesion type\n",
    "lesion_type_dict = {\n",
    "    'nv': 'Melanocytic nevi',\n",
    "    'mel': 'Melanoma',\n",
    "    'bkl': 'Benign keratosis-like lesions',\n",
    "    'bcc': 'Basal cell carcinoma',\n",
    "    'akiec': 'Actinic keratoses',\n",
    "    'vasc': 'Vascular lesions',\n",
    "    'df': 'Dermatofibroma'\n",
    "}\n",
    "\n",
    "# define directory\n",
    "train_skin_dir = os.path.join('../../../', 'HAM10000')\n",
    "\n",
    "#dictionary {imageid : path}\n",
    "imageid_path_dict = {os.path.splitext(os.path.basename(x))[0]: x\n",
    "                     for x in glob(os.path.join(train_skin_dir, '*', '*.jpg'))}"
   ],
   "metadata": {
    "collapsed": false,
    "pycharm": {
     "name": "#%%\n"
    }
   }
  },
  {
   "cell_type": "code",
   "execution_count": 3,
   "outputs": [
    {
     "data": {
      "text/plain": "          image_id                      cell_type  cell_type_idx  \\\n372   ISIC_0031593  Benign keratosis-like lesions              2   \n6185  ISIC_0031916               Melanocytic nevi              4   \n2716  ISIC_0026716           Basal cell carcinoma              1   \n\n                                                   path  \n372   ../../../HAM10000\\HAM10000_images_part_2\\ISIC_...  \n6185  ../../../HAM10000\\HAM10000_images_part_2\\ISIC_...  \n2716  ../../../HAM10000\\HAM10000_images_part_1\\ISIC_...  ",
      "text/html": "<div>\n<style scoped>\n    .dataframe tbody tr th:only-of-type {\n        vertical-align: middle;\n    }\n\n    .dataframe tbody tr th {\n        vertical-align: top;\n    }\n\n    .dataframe thead th {\n        text-align: right;\n    }\n</style>\n<table border=\"1\" class=\"dataframe\">\n  <thead>\n    <tr style=\"text-align: right;\">\n      <th></th>\n      <th>image_id</th>\n      <th>cell_type</th>\n      <th>cell_type_idx</th>\n      <th>path</th>\n    </tr>\n  </thead>\n  <tbody>\n    <tr>\n      <th>372</th>\n      <td>ISIC_0031593</td>\n      <td>Benign keratosis-like lesions</td>\n      <td>2</td>\n      <td>../../../HAM10000\\HAM10000_images_part_2\\ISIC_...</td>\n    </tr>\n    <tr>\n      <th>6185</th>\n      <td>ISIC_0031916</td>\n      <td>Melanocytic nevi</td>\n      <td>4</td>\n      <td>../../../HAM10000\\HAM10000_images_part_2\\ISIC_...</td>\n    </tr>\n    <tr>\n      <th>2716</th>\n      <td>ISIC_0026716</td>\n      <td>Basal cell carcinoma</td>\n      <td>1</td>\n      <td>../../../HAM10000\\HAM10000_images_part_1\\ISIC_...</td>\n    </tr>\n  </tbody>\n</table>\n</div>"
     },
     "execution_count": 3,
     "metadata": {},
     "output_type": "execute_result"
    }
   ],
   "source": [
    "tile_df = pd.read_csv(os.path.join(train_skin_dir, 'metadata.csv')) #read csv\n",
    "tile_df['cell_type'] = tile_df['dx'].map(lesion_type_dict.get) #lesion type code full name\n",
    "tile_df['cell_type_idx'] = pd.Categorical(tile_df['cell_type']).codes #lesion type\n",
    "tile_df['path'] = tile_df['image_id'].map(imageid_path_dict.get) #path of image\n",
    "tile_df = tile_df.drop(['dx', 'dx_type', 'age', 'sex', 'localization', 'lesion_id'], axis=1) #drop columns\n",
    "tile_df.sample(3) # some samples"
   ],
   "metadata": {
    "collapsed": false,
    "pycharm": {
     "name": "#%%\n"
    }
   }
  },
  {
   "cell_type": "code",
   "execution_count": 4,
   "outputs": [
    {
     "data": {
      "text/plain": "<AxesSubplot:>"
     },
     "execution_count": 4,
     "metadata": {},
     "output_type": "execute_result"
    },
    {
     "data": {
      "text/plain": "<Figure size 720x360 with 1 Axes>",
      "image/png": "[encoded data removed]"
     },
     "metadata": {
      "needs_background": "light"
     },
     "output_type": "display_data"
    }
   ],
   "source": [
    "fig, ax1 = plt.subplots(1, 1, figsize = (10, 5))\n",
    "tile_df['cell_type'].value_counts().plot(kind='bar', ax=ax1)"
   ],
   "metadata": {
    "collapsed": false,
    "pycharm": {
     "name": "#%% plot\n"
    }
   }
  },
  {
   "cell_type": "code",
   "execution_count": 5,
   "outputs": [],
   "source": [
    "tile_df['image'] = tile_df['path'].map(imread)"
   ],
   "metadata": {
    "collapsed": false,
    "pycharm": {
     "name": "#%% load in all of the images\n"
    }
   }
  },
  {
   "cell_type": "code",
   "execution_count": 6,
   "outputs": [
    {
     "data": {
      "text/plain": "(450, 600, 3)    10015\nName: image, dtype: int64"
     },
     "execution_count": 6,
     "metadata": {},
     "output_type": "execute_result"
    }
   ],
   "source": [
    "# see the image size distribution\n",
    "tile_df['image'].map(lambda x: x.shape).value_counts()"
   ],
   "metadata": {
    "collapsed": false,
    "pycharm": {
     "name": "#%%\n"
    }
   }
  },
  {
   "cell_type": "code",
   "execution_count": 7,
   "outputs": [],
   "source": [
    "train_df, validation_df = train_test_split(tile_df, test_size=0.2)"
   ],
   "metadata": {
    "collapsed": false,
    "pycharm": {
     "name": "#%%\n"
    }
   }
  },
  {
   "cell_type": "code",
   "execution_count": 8,
   "outputs": [
    {
     "data": {
      "text/plain": "<AxesSubplot:>"
     },
     "execution_count": 8,
     "metadata": {},
     "output_type": "execute_result"
    },
    {
     "data": {
      "text/plain": "<Figure size 720x360 with 1 Axes>",
      "image/png": "[encoded data removed]"
     },
     "metadata": {
      "needs_background": "light"
     },
     "output_type": "display_data"
    }
   ],
   "source": [
    "fig, ax1 = plt.subplots(1, 1, figsize = (10, 5))\n",
    "train_df['cell_type'].value_counts().plot(kind='bar', ax=ax1)"
   ],
   "metadata": {
    "collapsed": false,
    "pycharm": {
     "name": "#%% plot\n"
    }
   }
  },
  {
   "cell_type": "code",
   "execution_count": 9,
   "outputs": [
    {
     "data": {
      "text/plain": "(450, 600, 3)    8012\nName: image, dtype: int64"
     },
     "execution_count": 9,
     "metadata": {},
     "output_type": "execute_result"
    }
   ],
   "source": [
    "# see the image size distribution\n",
    "train_df['image'].map(lambda x: x.shape).value_counts()"
   ],
   "metadata": {
    "collapsed": false,
    "pycharm": {
     "name": "#%%\n"
    }
   }
  },
  {
   "cell_type": "code",
   "execution_count": 10,
   "outputs": [
    {
     "data": {
      "text/plain": "<AxesSubplot:>"
     },
     "execution_count": 10,
     "metadata": {},
     "output_type": "execute_result"
    },
    {
     "data": {
      "text/plain": "<Figure size 720x360 with 1 Axes>",
      "image/png": "[encoded data removed]"
     },
     "metadata": {
      "needs_background": "light"
     },
     "output_type": "display_data"
    }
   ],
   "source": [
    "fig, ax1 = plt.subplots(1, 1, figsize = (10, 5))\n",
    "validation_df['cell_type'].value_counts().plot(kind='bar', ax=ax1)"
   ],
   "metadata": {
    "collapsed": false,
    "pycharm": {
     "name": "#%% plot\n"
    }
   }
  },
  {
   "cell_type": "code",
   "execution_count": 11,
   "outputs": [
    {
     "data": {
      "text/plain": "(450, 600, 3)    2003\nName: image, dtype: int64"
     },
     "execution_count": 11,
     "metadata": {},
     "output_type": "execute_result"
    }
   ],
   "source": [
    "# see the image size distribution\n",
    "validation_df['image'].map(lambda x: x.shape).value_counts()"
   ],
   "metadata": {
    "collapsed": false,
    "pycharm": {
     "name": "#%%\n"
    }
   }
  },
  {
   "cell_type": "code",
   "execution_count": 12,
   "outputs": [],
   "source": [
    "#tile_df[['cell_type_idx', 'cell_type']].sort_values('cell_type_idx').drop_duplicates()"
   ],
   "metadata": {
    "collapsed": false,
    "pycharm": {
     "name": "#%%\n"
    }
   }
  },
  {
   "cell_type": "code",
   "execution_count": 13,
   "outputs": [],
   "source": [
    "train_df = train_df.reset_index(drop=True)\n",
    "validation_df = validation_df.reset_index(drop=True)"
   ],
   "metadata": {
    "collapsed": false,
    "pycharm": {
     "name": "#%%\n"
    }
   }
  },
  {
   "cell_type": "code",
   "execution_count": 14,
   "outputs": [],
   "source": [
    "#train_df.to_csv('temp.csv')"
   ],
   "metadata": {
    "collapsed": false,
    "pycharm": {
     "name": "#%%\n"
    }
   }
  },
  {
   "cell_type": "code",
   "execution_count": 15,
   "outputs": [],
   "source": [
    "for i in range(len(train_df)):\n",
    "    if train_df['cell_type_idx'][i] in [0, 1, 2, 3, 5, 6]: #extend all categories except for nevus\n",
    "        img_np = train_df['image'][i]\n",
    "        img = Image.fromarray(img_np.astype('uint8'), 'RGB')\n",
    "        img2 = img.transpose(Image.ROTATE_90)\n",
    "        img3 = img.transpose(Image.ROTATE_180)\n",
    "        img4 = img.transpose(Image.ROTATE_270)\n",
    "\n",
    "        train_df.loc[len(train_df.index)] = [train_df['image_id'][i],\n",
    "                                           train_df['cell_type'][i],\n",
    "                                           train_df['cell_type_idx'][i],\n",
    "                                           train_df['path'][i],\n",
    "                                           np.array(img2)]\n",
    "\n",
    "        train_df.loc[len(train_df.index)] = [train_df['image_id'][i],\n",
    "                                           train_df['cell_type'][i],\n",
    "                                           train_df['cell_type_idx'][i],\n",
    "                                           train_df['path'][i],\n",
    "                                           np.array(img3)]\n",
    "\n",
    "        train_df.loc[len(train_df.index)] = [train_df['image_id'][i],\n",
    "                                           train_df['cell_type'][i],\n",
    "                                           train_df['cell_type_idx'][i],\n",
    "                                           train_df['path'][i],\n",
    "                                           np.array(img4)]"
   ],
   "metadata": {
    "collapsed": false,
    "pycharm": {
     "name": "#%%\n"
    }
   }
  },
  {
   "cell_type": "code",
   "execution_count": 16,
   "outputs": [
    {
     "data": {
      "text/plain": "<AxesSubplot:>"
     },
     "execution_count": 16,
     "metadata": {},
     "output_type": "execute_result"
    },
    {
     "data": {
      "text/plain": "<Figure size 720x360 with 1 Axes>",
      "image/png": "[encoded data removed]"
     },
     "metadata": {
      "needs_background": "light"
     },
     "output_type": "display_data"
    }
   ],
   "source": [
    "fig, ax1 = plt.subplots(1, 1, figsize = (10, 5))\n",
    "train_df['cell_type'].value_counts().plot(kind='bar', ax=ax1)"
   ],
   "metadata": {
    "collapsed": false,
    "pycharm": {
     "name": "#%% plot\n"
    }
   }
  },
  {
   "cell_type": "code",
   "execution_count": 17,
   "outputs": [
    {
     "data": {
      "text/plain": "(450, 600, 3)    10636\n(600, 450, 3)     5248\nName: image, dtype: int64"
     },
     "execution_count": 17,
     "metadata": {},
     "output_type": "execute_result"
    }
   ],
   "source": [
    "# see the image size distribution\n",
    "train_df['image'].map(lambda x: x.shape).value_counts()"
   ],
   "metadata": {
    "collapsed": false,
    "pycharm": {
     "name": "#%%\n"
    }
   }
  },
  {
   "cell_type": "markdown",
   "source": [
    "**ResNET50 initialization**"
   ],
   "metadata": {
    "collapsed": false
   }
  },
  {
   "cell_type": "code",
   "execution_count": 18,
   "outputs": [
    {
     "name": "stdout",
     "output_type": "stream",
     "text": [
      "Linear(in_features=2048, out_features=7, bias=True)\n"
     ]
    },
    {
     "data": {
      "text/plain": "ResNet(\n  (conv1): Conv2d(3, 64, kernel_size=(7, 7), stride=(2, 2), padding=(3, 3), bias=False)\n  (bn1): BatchNorm2d(64, eps=1e-05, momentum=0.1, affine=True, track_running_stats=True)\n  (relu): ReLU(inplace=True)\n  (maxpool): MaxPool2d(kernel_size=3, stride=2, padding=1, dilation=1, ceil_mode=False)\n  (layer1): Sequential(\n    (0): Bottleneck(\n      (conv1): Conv2d(64, 64, kernel_size=(1, 1), stride=(1, 1), bias=False)\n      (bn1): BatchNorm2d(64, eps=1e-05, momentum=0.1, affine=True, track_running_stats=True)\n      (conv2): Conv2d(64, 64, kernel_size=(3, 3), stride=(1, 1), padding=(1, 1), bias=False)\n      (bn2): BatchNorm2d(64, eps=1e-05, momentum=0.1, affine=True, track_running_stats=True)\n      (conv3): Conv2d(64, 256, kernel_size=(1, 1), stride=(1, 1), bias=False)\n      (bn3): BatchNorm2d(256, eps=1e-05, momentum=0.1, affine=True, track_running_stats=True)\n      (relu): ReLU(inplace=True)\n      (downsample): Sequential(\n        (0): Conv2d(64, 256, kernel_size=(1, 1), stride=(1, 1), bias=False)\n        (1): BatchNorm2d(256, eps=1e-05, momentum=0.1, affine=True, track_running_stats=True)\n      )\n    )\n    (1): Bottleneck(\n      (conv1): Conv2d(256, 64, kernel_size=(1, 1), stride=(1, 1), bias=False)\n      (bn1): BatchNorm2d(64, eps=1e-05, momentum=0.1, affine=True, track_running_stats=True)\n      (conv2): Conv2d(64, 64, kernel_size=(3, 3), stride=(1, 1), padding=(1, 1), bias=False)\n      (bn2): BatchNorm2d(64, eps=1e-05, momentum=0.1, affine=True, track_running_stats=True)\n      (conv3): Conv2d(64, 256, kernel_size=(1, 1), stride=(1, 1), bias=False)\n      (bn3): BatchNorm2d(256, eps=1e-05, momentum=0.1, affine=True, track_running_stats=True)\n      (relu): ReLU(inplace=True)\n    )\n    (2): Bottleneck(\n      (conv1): Conv2d(256, 64, kernel_size=(1, 1), stride=(1, 1), bias=False)\n      (bn1): BatchNorm2d(64, eps=1e-05, momentum=0.1, affine=True, track_running_stats=True)\n      (conv2): Conv2d(64, 64, kernel_size=(3, 3), stride=(1, 1), padding=(1, 1), bias=False)\n      (bn2): BatchNorm2d(64, eps=1e-05, momentum=0.1, affine=True, track_running_stats=True)\n      (conv3): Conv2d(64, 256, kernel_size=(1, 1), stride=(1, 1), bias=False)\n      (bn3): BatchNorm2d(256, eps=1e-05, momentum=0.1, affine=True, track_running_stats=True)\n      (relu): ReLU(inplace=True)\n    )\n  )\n  (layer2): Sequential(\n    (0): Bottleneck(\n      (conv1): Conv2d(256, 128, kernel_size=(1, 1), stride=(1, 1), bias=False)\n      (bn1): BatchNorm2d(128, eps=1e-05, momentum=0.1, affine=True, track_running_stats=True)\n      (conv2): Conv2d(128, 128, kernel_size=(3, 3), stride=(2, 2), padding=(1, 1), bias=False)\n      (bn2): BatchNorm2d(128, eps=1e-05, momentum=0.1, affine=True, track_running_stats=True)\n      (conv3): Conv2d(128, 512, kernel_size=(1, 1), stride=(1, 1), bias=False)\n      (bn3): BatchNorm2d(512, eps=1e-05, momentum=0.1, affine=True, track_running_stats=True)\n      (relu): ReLU(inplace=True)\n      (downsample): Sequential(\n        (0): Conv2d(256, 512, kernel_size=(1, 1), stride=(2, 2), bias=False)\n        (1): BatchNorm2d(512, eps=1e-05, momentum=0.1, affine=True, track_running_stats=True)\n      )\n    )\n    (1): Bottleneck(\n      (conv1): Conv2d(512, 128, kernel_size=(1, 1), stride=(1, 1), bias=False)\n      (bn1): BatchNorm2d(128, eps=1e-05, momentum=0.1, affine=True, track_running_stats=True)\n      (conv2): Conv2d(128, 128, kernel_size=(3, 3), stride=(1, 1), padding=(1, 1), bias=False)\n      (bn2): BatchNorm2d(128, eps=1e-05, momentum=0.1, affine=True, track_running_stats=True)\n      (conv3): Conv2d(128, 512, kernel_size=(1, 1), stride=(1, 1), bias=False)\n      (bn3): BatchNorm2d(512, eps=1e-05, momentum=0.1, affine=True, track_running_stats=True)\n      (relu): ReLU(inplace=True)\n    )\n    (2): Bottleneck(\n      (conv1): Conv2d(512, 128, kernel_size=(1, 1), stride=(1, 1), bias=False)\n      (bn1): BatchNorm2d(128, eps=1e-05, momentum=0.1, affine=True, track_running_stats=True)\n      (conv2): Conv2d(128, 128, kernel_size=(3, 3), stride=(1, 1), padding=(1, 1), bias=False)\n      (bn2): BatchNorm2d(128, eps=1e-05, momentum=0.1, affine=True, track_running_stats=True)\n      (conv3): Conv2d(128, 512, kernel_size=(1, 1), stride=(1, 1), bias=False)\n      (bn3): BatchNorm2d(512, eps=1e-05, momentum=0.1, affine=True, track_running_stats=True)\n      (relu): ReLU(inplace=True)\n    )\n    (3): Bottleneck(\n      (conv1): Conv2d(512, 128, kernel_size=(1, 1), stride=(1, 1), bias=False)\n      (bn1): BatchNorm2d(128, eps=1e-05, momentum=0.1, affine=True, track_running_stats=True)\n      (conv2): Conv2d(128, 128, kernel_size=(3, 3), stride=(1, 1), padding=(1, 1), bias=False)\n      (bn2): BatchNorm2d(128, eps=1e-05, momentum=0.1, affine=True, track_running_stats=True)\n      (conv3): Conv2d(128, 512, kernel_size=(1, 1), stride=(1, 1), bias=False)\n      (bn3): BatchNorm2d(512, eps=1e-05, momentum=0.1, affine=True, track_running_stats=True)\n      (relu): ReLU(inplace=True)\n    )\n  )\n  (layer3): Sequential(\n    (0): Bottleneck(\n      (conv1): Conv2d(512, 256, kernel_size=(1, 1), stride=(1, 1), bias=False)\n      (bn1): BatchNorm2d(256, eps=1e-05, momentum=0.1, affine=True, track_running_stats=True)\n      (conv2): Conv2d(256, 256, kernel_size=(3, 3), stride=(2, 2), padding=(1, 1), bias=False)\n      (bn2): BatchNorm2d(256, eps=1e-05, momentum=0.1, affine=True, track_running_stats=True)\n      (conv3): Conv2d(256, 1024, kernel_size=(1, 1), stride=(1, 1), bias=False)\n      (bn3): BatchNorm2d(1024, eps=1e-05, momentum=0.1, affine=True, track_running_stats=True)\n      (relu): ReLU(inplace=True)\n      (downsample): Sequential(\n        (0): Conv2d(512, 1024, kernel_size=(1, 1), stride=(2, 2), bias=False)\n        (1): BatchNorm2d(1024, eps=1e-05, momentum=0.1, affine=True, track_running_stats=True)\n      )\n    )\n    (1): Bottleneck(\n      (conv1): Conv2d(1024, 256, kernel_size=(1, 1), stride=(1, 1), bias=False)\n      (bn1): BatchNorm2d(256, eps=1e-05, momentum=0.1, affine=True, track_running_stats=True)\n      (conv2): Conv2d(256, 256, kernel_size=(3, 3), stride=(1, 1), padding=(1, 1), bias=False)\n      (bn2): BatchNorm2d(256, eps=1e-05, momentum=0.1, affine=True, track_running_stats=True)\n      (conv3): Conv2d(256, 1024, kernel_size=(1, 1), stride=(1, 1), bias=False)\n      (bn3): BatchNorm2d(1024, eps=1e-05, momentum=0.1, affine=True, track_running_stats=True)\n      (relu): ReLU(inplace=True)\n    )\n    (2): Bottleneck(\n      (conv1): Conv2d(1024, 256, kernel_size=(1, 1), stride=(1, 1), bias=False)\n      (bn1): BatchNorm2d(256, eps=1e-05, momentum=0.1, affine=True, track_running_stats=True)\n      (conv2): Conv2d(256, 256, kernel_size=(3, 3), stride=(1, 1), padding=(1, 1), bias=False)\n      (bn2): BatchNorm2d(256, eps=1e-05, momentum=0.1, affine=True, track_running_stats=True)\n      (conv3): Conv2d(256, 1024, kernel_size=(1, 1), stride=(1, 1), bias=False)\n      (bn3): BatchNorm2d(1024, eps=1e-05, momentum=0.1, affine=True, track_running_stats=True)\n      (relu): ReLU(inplace=True)\n    )\n    (3): Bottleneck(\n      (conv1): Conv2d(1024, 256, kernel_size=(1, 1), stride=(1, 1), bias=False)\n      (bn1): BatchNorm2d(256, eps=1e-05, momentum=0.1, affine=True, track_running_stats=True)\n      (conv2): Conv2d(256, 256, kernel_size=(3, 3), stride=(1, 1), padding=(1, 1), bias=False)\n      (bn2): BatchNorm2d(256, eps=1e-05, momentum=0.1, affine=True, track_running_stats=True)\n      (conv3): Conv2d(256, 1024, kernel_size=(1, 1), stride=(1, 1), bias=False)\n      (bn3): BatchNorm2d(1024, eps=1e-05, momentum=0.1, affine=True, track_running_stats=True)\n      (relu): ReLU(inplace=True)\n    )\n    (4): Bottleneck(\n      (conv1): Conv2d(1024, 256, kernel_size=(1, 1), stride=(1, 1), bias=False)\n      (bn1): BatchNorm2d(256, eps=1e-05, momentum=0.1, affine=True, track_running_stats=True)\n      (conv2): Conv2d(256, 256, kernel_size=(3, 3), stride=(1, 1), padding=(1, 1), bias=False)\n      (bn2): BatchNorm2d(256, eps=1e-05, momentum=0.1, affine=True, track_running_stats=True)\n      (conv3): Conv2d(256, 1024, kernel_size=(1, 1), stride=(1, 1), bias=False)\n      (bn3): BatchNorm2d(1024, eps=1e-05, momentum=0.1, affine=True, track_running_stats=True)\n      (relu): ReLU(inplace=True)\n    )\n    (5): Bottleneck(\n      (conv1): Conv2d(1024, 256, kernel_size=(1, 1), stride=(1, 1), bias=False)\n      (bn1): BatchNorm2d(256, eps=1e-05, momentum=0.1, affine=True, track_running_stats=True)\n      (conv2): Conv2d(256, 256, kernel_size=(3, 3), stride=(1, 1), padding=(1, 1), bias=False)\n      (bn2): BatchNorm2d(256, eps=1e-05, momentum=0.1, affine=True, track_running_stats=True)\n      (conv3): Conv2d(256, 1024, kernel_size=(1, 1), stride=(1, 1), bias=False)\n      (bn3): BatchNorm2d(1024, eps=1e-05, momentum=0.1, affine=True, track_running_stats=True)\n      (relu): ReLU(inplace=True)\n    )\n  )\n  (layer4): Sequential(\n    (0): Bottleneck(\n      (conv1): Conv2d(1024, 512, kernel_size=(1, 1), stride=(1, 1), bias=False)\n      (bn1): BatchNorm2d(512, eps=1e-05, momentum=0.1, affine=True, track_running_stats=True)\n      (conv2): Conv2d(512, 512, kernel_size=(3, 3), stride=(2, 2), padding=(1, 1), bias=False)\n      (bn2): BatchNorm2d(512, eps=1e-05, momentum=0.1, affine=True, track_running_stats=True)\n      (conv3): Conv2d(512, 2048, kernel_size=(1, 1), stride=(1, 1), bias=False)\n      (bn3): BatchNorm2d(2048, eps=1e-05, momentum=0.1, affine=True, track_running_stats=True)\n      (relu): ReLU(inplace=True)\n      (downsample): Sequential(\n        (0): Conv2d(1024, 2048, kernel_size=(1, 1), stride=(2, 2), bias=False)\n        (1): BatchNorm2d(2048, eps=1e-05, momentum=0.1, affine=True, track_running_stats=True)\n      )\n    )\n    (1): Bottleneck(\n      (conv1): Conv2d(2048, 512, kernel_size=(1, 1), stride=(1, 1), bias=False)\n      (bn1): BatchNorm2d(512, eps=1e-05, momentum=0.1, affine=True, track_running_stats=True)\n      (conv2): Conv2d(512, 512, kernel_size=(3, 3), stride=(1, 1), padding=(1, 1), bias=False)\n      (bn2): BatchNorm2d(512, eps=1e-05, momentum=0.1, affine=True, track_running_stats=True)\n      (conv3): Conv2d(512, 2048, kernel_size=(1, 1), stride=(1, 1), bias=False)\n      (bn3): BatchNorm2d(2048, eps=1e-05, momentum=0.1, affine=True, track_running_stats=True)\n      (relu): ReLU(inplace=True)\n    )\n    (2): Bottleneck(\n      (conv1): Conv2d(2048, 512, kernel_size=(1, 1), stride=(1, 1), bias=False)\n      (bn1): BatchNorm2d(512, eps=1e-05, momentum=0.1, affine=True, track_running_stats=True)\n      (conv2): Conv2d(512, 512, kernel_size=(3, 3), stride=(1, 1), padding=(1, 1), bias=False)\n      (bn2): BatchNorm2d(512, eps=1e-05, momentum=0.1, affine=True, track_running_stats=True)\n      (conv3): Conv2d(512, 2048, kernel_size=(1, 1), stride=(1, 1), bias=False)\n      (bn3): BatchNorm2d(2048, eps=1e-05, momentum=0.1, affine=True, track_running_stats=True)\n      (relu): ReLU(inplace=True)\n    )\n  )\n  (avgpool): AdaptiveAvgPool2d(output_size=(1, 1))\n  (fc): Linear(in_features=2048, out_features=7, bias=True)\n)"
     },
     "execution_count": 18,
     "metadata": {},
     "output_type": "execute_result"
    }
   ],
   "source": [
    "model_conv = models.resnet50(pretrained=True)\n",
    "num_ftrs = model_conv.fc.in_features\n",
    "model_conv.fc = torch.nn.Linear(num_ftrs, 7)\n",
    "print(model_conv.fc)\n",
    "model_conv.to(device)"
   ],
   "metadata": {
    "collapsed": false,
    "pycharm": {
     "name": "#%%\n"
    }
   }
  },
  {
   "cell_type": "markdown",
   "source": [
    "**Training and validation set**"
   ],
   "metadata": {
    "collapsed": false
   }
  },
  {
   "cell_type": "code",
   "execution_count": 19,
   "outputs": [],
   "source": [
    "class DatasetCustom(torch.utils.data.Dataset):\n",
    "    \"\"\"Characterizes a dataset for PyTorch\"\"\"\n",
    "    def __init__(self, df, transform=None):\n",
    "        \"\"\"Initialization\"\"\"\n",
    "        self.df = df\n",
    "        self.transform = transform\n",
    "\n",
    "    def __len__(self):\n",
    "        \"\"\"Denotes the total number of samples\"\"\"\n",
    "        return len(self.df)\n",
    "\n",
    "    def __getitem__(self, index):\n",
    "        \"\"\"Generates one sample of data\"\"\"\n",
    "        # Load data and get label\n",
    "        img = Image.open(self.df['path'][index])\n",
    "        label = torch.tensor(int(self.df['cell_type_idx'][index]))\n",
    "\n",
    "        if self.transform:\n",
    "            img = self.transform(img)\n",
    "\n",
    "        return img, label"
   ],
   "metadata": {
    "collapsed": false,
    "pycharm": {
     "name": "#%%\n"
    }
   }
  },
  {
   "cell_type": "code",
   "execution_count": 20,
   "outputs": [],
   "source": [
    "train_df = train_df.reset_index(drop=True)\n",
    "validation_df = validation_df.reset_index(drop=True)\n",
    "\n",
    "#train_df.to_csv('temp1.csv')\n",
    "#validation_df.to_csv('temp2.csv')"
   ],
   "metadata": {
    "collapsed": false,
    "pycharm": {
     "name": "#%%\n"
    }
   }
  },
  {
   "cell_type": "code",
   "execution_count": 21,
   "outputs": [],
   "source": [
    "batch_size = 16\n",
    "batch_size_test = 16\n",
    "'''\n",
    "composed = trf.Compose([trf.RandomHorizontalFlip(), trf.RandomVerticalFlip(), trf.CenterCrop(300),  trf.ToTensor(),\n",
    "                        trf.Normalize(mean=[0.485, 0.456, 0.406], std=[0.229, 0.224, 0.225])])\n",
    "  , trf.ColorJitter(contrast=(1.4, 1.5))\n",
    "  trf.ColorJitter(contrast=(1.4, 1.5)), trf.Resize(300) , trf.RandomCrop(224)\n",
    "  ----last-----\n",
    "composed = trf.Compose([trf.ColorJitter(contrast=(1.4, 1.5)), trf.Resize(300), trf.CenterCrop(224), trf.ToTensor(),\n",
    "                        trf.Normalize(mean=[0.73, 0.51, 0.53], std=[0.15, 0.17, 0.19])])\n",
    "'''\n",
    "\n",
    "composed = trf.Compose([trf.Resize(300), trf.CenterCrop(224), trf.ToTensor(),\n",
    "                        trf.Normalize(mean=[0.73, 0.51, 0.53], std=[0.15, 0.17, 0.19])])\n",
    "\n",
    "# Define the training set using the table train_df and using our defined transitions (composed)\n",
    "training_set = DatasetCustom(train_df, transform=composed)\n",
    "training_generator = torch.utils.data.DataLoader(training_set, batch_size=batch_size, shuffle=True)\n",
    "\n",
    "# Same for the validation set:\n",
    "validation_set = DatasetCustom(validation_df, transform=composed)\n",
    "validation_generator = torch.utils.data.DataLoader(validation_set, batch_size = batch_size_test, shuffle=True)\n",
    "\n",
    "# Same for the test set:\n",
    "test_set = DatasetCustom(validation_df, transform=composed)\n",
    "test_generator = torch.utils.data.SequentialSampler(test_set)"
   ],
   "metadata": {
    "collapsed": false,
    "pycharm": {
     "name": "#%% define the transformation of the images.\n"
    }
   }
  },
  {
   "cell_type": "markdown",
   "source": [
    "**Training and testing the model**\n",
    "Now we have to define the optimizer we want to use. In this case, it will be an Adam optimizer with a learning rate of 1e−61e−6.\n",
    "The loss function that we will use is CrossEntropyLoss. This is the typical one chosen for multiclass classification problems."
   ],
   "metadata": {
    "collapsed": false
   }
  },
  {
   "cell_type": "code",
   "execution_count": 22,
   "outputs": [
    {
     "name": "stdout",
     "output_type": "stream",
     "text": [
      "epoch: 1/100\n",
      "<torch.utils.data.dataloader.DataLoader object at 0x000001CB8756F5E0>\n",
      "TRAIN ERR: 1.887, TRAIN ACC: 24.875%\n",
      "VALID ERR: 1.865, VALID ACC: 25.298%\n",
      "epoch: 2/100\n",
      "<torch.utils.data.dataloader.DataLoader object at 0x000001CB8756F5E0>\n",
      "TRAIN ERR: 1.743, TRAIN ACC: 40.875%\n",
      "VALID ERR: 1.659, VALID ACC: 51.091%\n",
      "epoch: 3/100\n",
      "<torch.utils.data.dataloader.DataLoader object at 0x000001CB8756F5E0>\n",
      "TRAIN ERR: 1.544, TRAIN ACC: 53.625%\n",
      "VALID ERR: 1.415, VALID ACC: 57.887%\n",
      "epoch: 4/100\n",
      "<torch.utils.data.dataloader.DataLoader object at 0x000001CB8756F5E0>\n",
      "TRAIN ERR: 1.411, TRAIN ACC: 53.000%\n",
      "VALID ERR: 1.255, VALID ACC: 60.119%\n",
      "epoch: 5/100\n",
      "<torch.utils.data.dataloader.DataLoader object at 0x000001CB8756F5E0>\n",
      "TRAIN ERR: 1.230, TRAIN ACC: 58.000%\n",
      "VALID ERR: 1.107, VALID ACC: 63.046%\n",
      "epoch: 6/100\n",
      "<torch.utils.data.dataloader.DataLoader object at 0x000001CB8756F5E0>\n",
      "TRAIN ERR: 1.172, TRAIN ACC: 60.250%\n",
      "VALID ERR: 0.982, VALID ACC: 65.923%\n",
      "epoch: 7/100\n",
      "<torch.utils.data.dataloader.DataLoader object at 0x000001CB8756F5E0>\n",
      "TRAIN ERR: 1.104, TRAIN ACC: 59.500%\n",
      "VALID ERR: 0.861, VALID ACC: 71.329%\n",
      "epoch: 8/100\n",
      "<torch.utils.data.dataloader.DataLoader object at 0x000001CB8756F5E0>\n",
      "TRAIN ERR: 1.055, TRAIN ACC: 62.375%\n",
      "VALID ERR: 0.838, VALID ACC: 71.379%\n",
      "epoch: 9/100\n",
      "<torch.utils.data.dataloader.DataLoader object at 0x000001CB8756F5E0>\n",
      "TRAIN ERR: 0.952, TRAIN ACC: 68.875%\n",
      "VALID ERR: 0.743, VALID ACC: 73.958%\n",
      "epoch: 10/100\n",
      "<torch.utils.data.dataloader.DataLoader object at 0x000001CB8756F5E0>\n",
      "TRAIN ERR: 0.913, TRAIN ACC: 69.125%\n",
      "VALID ERR: 0.711, VALID ACC: 75.298%\n",
      "epoch: 11/100\n",
      "<torch.utils.data.dataloader.DataLoader object at 0x000001CB8756F5E0>\n",
      "TRAIN ERR: 0.848, TRAIN ACC: 70.625%\n",
      "VALID ERR: 0.713, VALID ACC: 75.149%\n",
      "epoch: 12/100\n",
      "<torch.utils.data.dataloader.DataLoader object at 0x000001CB8756F5E0>\n",
      "TRAIN ERR: 0.813, TRAIN ACC: 71.125%\n",
      "VALID ERR: 0.629, VALID ACC: 77.480%\n",
      "epoch: 13/100\n",
      "<torch.utils.data.dataloader.DataLoader object at 0x000001CB8756F5E0>\n",
      "TRAIN ERR: 0.781, TRAIN ACC: 71.875%\n",
      "VALID ERR: 0.635, VALID ACC: 77.480%\n",
      "epoch: 14/100\n",
      "<torch.utils.data.dataloader.DataLoader object at 0x000001CB8756F5E0>\n",
      "TRAIN ERR: 0.751, TRAIN ACC: 74.000%\n",
      "VALID ERR: 0.626, VALID ACC: 78.224%\n",
      "epoch: 15/100\n",
      "<torch.utils.data.dataloader.DataLoader object at 0x000001CB8756F5E0>\n",
      "TRAIN ERR: 0.692, TRAIN ACC: 74.500%\n",
      "VALID ERR: 0.572, VALID ACC: 79.514%\n",
      "epoch: 16/100\n",
      "<torch.utils.data.dataloader.DataLoader object at 0x000001CB8756F5E0>\n",
      "TRAIN ERR: 0.629, TRAIN ACC: 78.750%\n",
      "VALID ERR: 0.560, VALID ACC: 79.613%\n",
      "epoch: 17/100\n",
      "<torch.utils.data.dataloader.DataLoader object at 0x000001CB8756F5E0>\n",
      "TRAIN ERR: 0.644, TRAIN ACC: 77.500%\n",
      "VALID ERR: 0.557, VALID ACC: 80.159%\n",
      "epoch: 18/100\n",
      "<torch.utils.data.dataloader.DataLoader object at 0x000001CB8756F5E0>\n",
      "TRAIN ERR: 0.605, TRAIN ACC: 79.125%\n",
      "VALID ERR: 0.542, VALID ACC: 80.853%\n",
      "epoch: 19/100\n",
      "<torch.utils.data.dataloader.DataLoader object at 0x000001CB8756F5E0>\n",
      "TRAIN ERR: 0.523, TRAIN ACC: 81.625%\n",
      "VALID ERR: 0.568, VALID ACC: 79.960%\n",
      "epoch: 20/100\n",
      "<torch.utils.data.dataloader.DataLoader object at 0x000001CB8756F5E0>\n",
      "TRAIN ERR: 0.584, TRAIN ACC: 78.500%\n",
      "VALID ERR: 0.528, VALID ACC: 80.804%\n",
      "epoch: 21/100\n",
      "<torch.utils.data.dataloader.DataLoader object at 0x000001CB8756F5E0>\n",
      "TRAIN ERR: 0.539, TRAIN ACC: 80.750%\n",
      "VALID ERR: 0.552, VALID ACC: 78.720%\n",
      "epoch: 22/100\n",
      "<torch.utils.data.dataloader.DataLoader object at 0x000001CB8756F5E0>\n",
      "TRAIN ERR: 0.521, TRAIN ACC: 81.500%\n",
      "VALID ERR: 0.551, VALID ACC: 79.117%\n",
      "epoch: 23/100\n",
      "<torch.utils.data.dataloader.DataLoader object at 0x000001CB8756F5E0>\n",
      "TRAIN ERR: 0.493, TRAIN ACC: 83.125%\n",
      "VALID ERR: 0.505, VALID ACC: 80.952%\n",
      "epoch: 24/100\n",
      "<torch.utils.data.dataloader.DataLoader object at 0x000001CB8756F5E0>\n",
      "TRAIN ERR: 0.464, TRAIN ACC: 83.500%\n",
      "VALID ERR: 0.507, VALID ACC: 82.143%\n",
      "epoch: 25/100\n",
      "<torch.utils.data.dataloader.DataLoader object at 0x000001CB8756F5E0>\n",
      "TRAIN ERR: 0.414, TRAIN ACC: 85.875%\n",
      "VALID ERR: 0.492, VALID ACC: 82.738%\n",
      "epoch: 26/100\n",
      "<torch.utils.data.dataloader.DataLoader object at 0x000001CB8756F5E0>\n",
      "TRAIN ERR: 0.335, TRAIN ACC: 89.125%\n",
      "VALID ERR: 0.462, VALID ACC: 83.532%\n",
      "epoch: 27/100\n",
      "<torch.utils.data.dataloader.DataLoader object at 0x000001CB8756F5E0>\n",
      "TRAIN ERR: 0.395, TRAIN ACC: 86.375%\n",
      "VALID ERR: 0.463, VALID ACC: 82.887%\n",
      "epoch: 28/100\n",
      "<torch.utils.data.dataloader.DataLoader object at 0x000001CB8756F5E0>\n",
      "TRAIN ERR: 0.327, TRAIN ACC: 88.500%\n",
      "VALID ERR: 0.446, VALID ACC: 83.631%\n",
      "epoch: 29/100\n",
      "<torch.utils.data.dataloader.DataLoader object at 0x000001CB8756F5E0>\n",
      "TRAIN ERR: 0.354, TRAIN ACC: 86.500%\n",
      "VALID ERR: 0.472, VALID ACC: 82.837%\n",
      "epoch: 30/100\n",
      "<torch.utils.data.dataloader.DataLoader object at 0x000001CB8756F5E0>\n",
      "TRAIN ERR: 0.315, TRAIN ACC: 89.750%\n",
      "VALID ERR: 0.495, VALID ACC: 82.341%\n",
      "epoch: 31/100\n",
      "<torch.utils.data.dataloader.DataLoader object at 0x000001CB8756F5E0>\n",
      "TRAIN ERR: 0.340, TRAIN ACC: 88.750%\n",
      "VALID ERR: 0.455, VALID ACC: 83.730%\n",
      "epoch: 32/100\n",
      "<torch.utils.data.dataloader.DataLoader object at 0x000001CB8756F5E0>\n",
      "TRAIN ERR: 0.289, TRAIN ACC: 90.625%\n",
      "VALID ERR: 0.446, VALID ACC: 83.829%\n",
      "epoch: 33/100\n",
      "<torch.utils.data.dataloader.DataLoader object at 0x000001CB8756F5E0>\n",
      "TRAIN ERR: 0.254, TRAIN ACC: 91.125%\n",
      "VALID ERR: 0.440, VALID ACC: 83.978%\n",
      "epoch: 34/100\n",
      "<torch.utils.data.dataloader.DataLoader object at 0x000001CB8756F5E0>\n",
      "TRAIN ERR: 0.232, TRAIN ACC: 91.375%\n",
      "VALID ERR: 0.466, VALID ACC: 83.978%\n",
      "epoch: 35/100\n",
      "<torch.utils.data.dataloader.DataLoader object at 0x000001CB8756F5E0>\n",
      "TRAIN ERR: 0.231, TRAIN ACC: 91.625%\n",
      "VALID ERR: 0.457, VALID ACC: 83.482%\n",
      "epoch: 36/100\n",
      "<torch.utils.data.dataloader.DataLoader object at 0x000001CB8756F5E0>\n",
      "TRAIN ERR: 0.298, TRAIN ACC: 90.750%\n",
      "VALID ERR: 0.448, VALID ACC: 84.177%\n",
      "epoch: 37/100\n",
      "<torch.utils.data.dataloader.DataLoader object at 0x000001CB8756F5E0>\n",
      "TRAIN ERR: 0.160, TRAIN ACC: 95.375%\n",
      "VALID ERR: 0.444, VALID ACC: 84.425%\n",
      "epoch: 38/100\n",
      "<torch.utils.data.dataloader.DataLoader object at 0x000001CB8756F5E0>\n",
      "TRAIN ERR: 0.193, TRAIN ACC: 93.750%\n",
      "VALID ERR: 0.465, VALID ACC: 84.425%\n",
      "epoch: 39/100\n",
      "<torch.utils.data.dataloader.DataLoader object at 0x000001CB8756F5E0>\n",
      "TRAIN ERR: 0.194, TRAIN ACC: 93.625%\n",
      "VALID ERR: 0.446, VALID ACC: 84.573%\n",
      "epoch: 40/100\n",
      "<torch.utils.data.dataloader.DataLoader object at 0x000001CB8756F5E0>\n",
      "TRAIN ERR: 0.208, TRAIN ACC: 93.000%\n",
      "VALID ERR: 0.473, VALID ACC: 84.276%\n",
      "epoch: 41/100\n",
      "<torch.utils.data.dataloader.DataLoader object at 0x000001CB8756F5E0>\n",
      "TRAIN ERR: 0.229, TRAIN ACC: 93.000%\n",
      "VALID ERR: 0.468, VALID ACC: 84.028%\n",
      "epoch: 42/100\n",
      "<torch.utils.data.dataloader.DataLoader object at 0x000001CB8756F5E0>\n",
      "TRAIN ERR: 0.184, TRAIN ACC: 94.625%\n",
      "VALID ERR: 0.463, VALID ACC: 84.425%\n",
      "epoch: 43/100\n",
      "<torch.utils.data.dataloader.DataLoader object at 0x000001CB8756F5E0>\n",
      "TRAIN ERR: 0.138, TRAIN ACC: 96.375%\n",
      "VALID ERR: 0.495, VALID ACC: 83.532%\n",
      "epoch: 44/100\n",
      "<torch.utils.data.dataloader.DataLoader object at 0x000001CB8756F5E0>\n",
      "TRAIN ERR: 0.154, TRAIN ACC: 95.875%\n",
      "VALID ERR: 0.497, VALID ACC: 83.879%\n",
      "epoch: 45/100\n",
      "<torch.utils.data.dataloader.DataLoader object at 0x000001CB8756F5E0>\n",
      "TRAIN ERR: 0.160, TRAIN ACC: 94.125%\n",
      "VALID ERR: 0.485, VALID ACC: 84.276%\n",
      "epoch: 46/100\n",
      "<torch.utils.data.dataloader.DataLoader object at 0x000001CB8756F5E0>\n",
      "TRAIN ERR: 0.154, TRAIN ACC: 95.625%\n",
      "VALID ERR: 0.490, VALID ACC: 83.681%\n",
      "epoch: 47/100\n",
      "<torch.utils.data.dataloader.DataLoader object at 0x000001CB8756F5E0>\n",
      "TRAIN ERR: 0.154, TRAIN ACC: 95.750%\n",
      "VALID ERR: 0.485, VALID ACC: 83.433%\n",
      "epoch: 48/100\n",
      "<torch.utils.data.dataloader.DataLoader object at 0x000001CB8756F5E0>\n",
      "TRAIN ERR: 0.176, TRAIN ACC: 93.625%\n",
      "VALID ERR: 0.516, VALID ACC: 83.085%\n",
      "epoch: 49/100\n",
      "<torch.utils.data.dataloader.DataLoader object at 0x000001CB8756F5E0>\n",
      "TRAIN ERR: 0.170, TRAIN ACC: 94.625%\n",
      "VALID ERR: 0.486, VALID ACC: 83.234%\n",
      "epoch: 50/100\n",
      "<torch.utils.data.dataloader.DataLoader object at 0x000001CB8756F5E0>\n",
      "TRAIN ERR: 0.156, TRAIN ACC: 94.375%\n",
      "VALID ERR: 0.476, VALID ACC: 84.276%\n",
      "epoch: 51/100\n",
      "<torch.utils.data.dataloader.DataLoader object at 0x000001CB8756F5E0>\n",
      "TRAIN ERR: 0.151, TRAIN ACC: 95.375%\n",
      "VALID ERR: 0.480, VALID ACC: 84.276%\n",
      "epoch: 52/100\n",
      "<torch.utils.data.dataloader.DataLoader object at 0x000001CB8756F5E0>\n",
      "TRAIN ERR: 0.091, TRAIN ACC: 97.875%\n",
      "VALID ERR: 0.485, VALID ACC: 84.524%\n",
      "epoch: 53/100\n",
      "<torch.utils.data.dataloader.DataLoader object at 0x000001CB8756F5E0>\n",
      "TRAIN ERR: 0.168, TRAIN ACC: 94.125%\n",
      "VALID ERR: 0.502, VALID ACC: 83.978%\n",
      "epoch: 54/100\n",
      "<torch.utils.data.dataloader.DataLoader object at 0x000001CB8756F5E0>\n",
      "TRAIN ERR: 0.124, TRAIN ACC: 95.500%\n",
      "VALID ERR: 0.499, VALID ACC: 84.028%\n",
      "epoch: 55/100\n",
      "<torch.utils.data.dataloader.DataLoader object at 0x000001CB8756F5E0>\n",
      "TRAIN ERR: 0.098, TRAIN ACC: 96.875%\n",
      "VALID ERR: 0.499, VALID ACC: 84.077%\n",
      "epoch: 56/100\n",
      "<torch.utils.data.dataloader.DataLoader object at 0x000001CB8756F5E0>\n",
      "TRAIN ERR: 0.115, TRAIN ACC: 96.750%\n",
      "VALID ERR: 0.486, VALID ACC: 84.623%\n",
      "epoch: 57/100\n",
      "<torch.utils.data.dataloader.DataLoader object at 0x000001CB8756F5E0>\n",
      "TRAIN ERR: 0.107, TRAIN ACC: 96.500%\n",
      "VALID ERR: 0.510, VALID ACC: 84.177%\n",
      "epoch: 58/100\n",
      "<torch.utils.data.dataloader.DataLoader object at 0x000001CB8756F5E0>\n",
      "TRAIN ERR: 0.089, TRAIN ACC: 96.625%\n",
      "VALID ERR: 0.501, VALID ACC: 83.780%\n",
      "epoch: 59/100\n",
      "<torch.utils.data.dataloader.DataLoader object at 0x000001CB8756F5E0>\n",
      "TRAIN ERR: 0.122, TRAIN ACC: 96.125%\n",
      "VALID ERR: 0.508, VALID ACC: 84.028%\n",
      "epoch: 60/100\n",
      "<torch.utils.data.dataloader.DataLoader object at 0x000001CB8756F5E0>\n",
      "TRAIN ERR: 0.116, TRAIN ACC: 96.000%\n",
      "VALID ERR: 0.538, VALID ACC: 84.325%\n",
      "epoch: 61/100\n",
      "<torch.utils.data.dataloader.DataLoader object at 0x000001CB8756F5E0>\n",
      "TRAIN ERR: 0.149, TRAIN ACC: 96.000%\n",
      "VALID ERR: 0.553, VALID ACC: 84.077%\n",
      "epoch: 62/100\n",
      "<torch.utils.data.dataloader.DataLoader object at 0x000001CB8756F5E0>\n",
      "TRAIN ERR: 0.131, TRAIN ACC: 95.250%\n",
      "VALID ERR: 0.557, VALID ACC: 83.780%\n",
      "epoch: 63/100\n",
      "<torch.utils.data.dataloader.DataLoader object at 0x000001CB8756F5E0>\n",
      "TRAIN ERR: 0.122, TRAIN ACC: 95.125%\n",
      "VALID ERR: 0.570, VALID ACC: 83.780%\n",
      "epoch: 64/100\n",
      "<torch.utils.data.dataloader.DataLoader object at 0x000001CB8756F5E0>\n",
      "TRAIN ERR: 0.115, TRAIN ACC: 96.125%\n",
      "VALID ERR: 0.538, VALID ACC: 83.532%\n",
      "epoch: 65/100\n",
      "<torch.utils.data.dataloader.DataLoader object at 0x000001CB8756F5E0>\n",
      "TRAIN ERR: 0.112, TRAIN ACC: 96.625%\n",
      "VALID ERR: 0.525, VALID ACC: 83.929%\n",
      "epoch: 66/100\n",
      "<torch.utils.data.dataloader.DataLoader object at 0x000001CB8756F5E0>\n",
      "TRAIN ERR: 0.113, TRAIN ACC: 95.750%\n",
      "VALID ERR: 0.543, VALID ACC: 83.978%\n",
      "epoch: 67/100\n",
      "<torch.utils.data.dataloader.DataLoader object at 0x000001CB8756F5E0>\n",
      "TRAIN ERR: 0.093, TRAIN ACC: 96.000%\n",
      "VALID ERR: 0.523, VALID ACC: 84.425%\n",
      "epoch: 68/100\n",
      "<torch.utils.data.dataloader.DataLoader object at 0x000001CB8756F5E0>\n",
      "TRAIN ERR: 0.115, TRAIN ACC: 96.125%\n",
      "VALID ERR: 0.536, VALID ACC: 84.623%\n",
      "epoch: 69/100\n",
      "<torch.utils.data.dataloader.DataLoader object at 0x000001CB8756F5E0>\n",
      "TRAIN ERR: 0.094, TRAIN ACC: 96.750%\n",
      "VALID ERR: 0.516, VALID ACC: 84.127%\n",
      "epoch: 70/100\n",
      "<torch.utils.data.dataloader.DataLoader object at 0x000001CB8756F5E0>\n",
      "TRAIN ERR: 0.102, TRAIN ACC: 96.125%\n",
      "VALID ERR: 0.508, VALID ACC: 85.069%\n",
      "epoch: 71/100\n",
      "<torch.utils.data.dataloader.DataLoader object at 0x000001CB8756F5E0>\n",
      "TRAIN ERR: 0.109, TRAIN ACC: 96.375%\n",
      "VALID ERR: 0.508, VALID ACC: 84.722%\n",
      "epoch: 72/100\n",
      "<torch.utils.data.dataloader.DataLoader object at 0x000001CB8756F5E0>\n",
      "TRAIN ERR: 0.093, TRAIN ACC: 97.250%\n",
      "VALID ERR: 0.506, VALID ACC: 85.020%\n",
      "epoch: 73/100\n",
      "<torch.utils.data.dataloader.DataLoader object at 0x000001CB8756F5E0>\n",
      "TRAIN ERR: 0.071, TRAIN ACC: 97.625%\n",
      "VALID ERR: 0.486, VALID ACC: 85.218%\n",
      "epoch: 74/100\n",
      "<torch.utils.data.dataloader.DataLoader object at 0x000001CB8756F5E0>\n",
      "TRAIN ERR: 0.070, TRAIN ACC: 98.125%\n",
      "VALID ERR: 0.511, VALID ACC: 85.565%\n",
      "epoch: 75/100\n",
      "<torch.utils.data.dataloader.DataLoader object at 0x000001CB8756F5E0>\n",
      "TRAIN ERR: 0.071, TRAIN ACC: 97.875%\n",
      "VALID ERR: 0.481, VALID ACC: 85.813%\n",
      "epoch: 76/100\n",
      "<torch.utils.data.dataloader.DataLoader object at 0x000001CB8756F5E0>\n",
      "TRAIN ERR: 0.094, TRAIN ACC: 96.750%\n",
      "VALID ERR: 0.496, VALID ACC: 85.565%\n",
      "epoch: 77/100\n",
      "<torch.utils.data.dataloader.DataLoader object at 0x000001CB8756F5E0>\n",
      "TRAIN ERR: 0.110, TRAIN ACC: 96.125%\n",
      "VALID ERR: 0.517, VALID ACC: 85.615%\n",
      "epoch: 78/100\n",
      "<torch.utils.data.dataloader.DataLoader object at 0x000001CB8756F5E0>\n",
      "TRAIN ERR: 0.077, TRAIN ACC: 97.500%\n",
      "VALID ERR: 0.513, VALID ACC: 85.417%\n",
      "epoch: 79/100\n",
      "<torch.utils.data.dataloader.DataLoader object at 0x000001CB8756F5E0>\n",
      "TRAIN ERR: 0.093, TRAIN ACC: 96.875%\n",
      "VALID ERR: 0.497, VALID ACC: 85.466%\n",
      "epoch: 80/100\n",
      "<torch.utils.data.dataloader.DataLoader object at 0x000001CB8756F5E0>\n",
      "TRAIN ERR: 0.098, TRAIN ACC: 97.250%\n",
      "VALID ERR: 0.525, VALID ACC: 85.218%\n",
      "epoch: 81/100\n",
      "<torch.utils.data.dataloader.DataLoader object at 0x000001CB8756F5E0>\n",
      "TRAIN ERR: 0.090, TRAIN ACC: 97.000%\n",
      "VALID ERR: 0.515, VALID ACC: 85.119%\n",
      "epoch: 82/100\n",
      "<torch.utils.data.dataloader.DataLoader object at 0x000001CB8756F5E0>\n",
      "TRAIN ERR: 0.059, TRAIN ACC: 98.750%\n",
      "VALID ERR: 0.512, VALID ACC: 84.722%\n",
      "epoch: 83/100\n",
      "<torch.utils.data.dataloader.DataLoader object at 0x000001CB8756F5E0>\n",
      "TRAIN ERR: 0.056, TRAIN ACC: 98.750%\n",
      "VALID ERR: 0.506, VALID ACC: 84.921%\n",
      "epoch: 84/100\n",
      "<torch.utils.data.dataloader.DataLoader object at 0x000001CB8756F5E0>\n",
      "TRAIN ERR: 0.075, TRAIN ACC: 97.375%\n",
      "VALID ERR: 0.521, VALID ACC: 83.929%\n",
      "epoch: 85/100\n",
      "<torch.utils.data.dataloader.DataLoader object at 0x000001CB8756F5E0>\n",
      "TRAIN ERR: 0.086, TRAIN ACC: 97.625%\n",
      "VALID ERR: 0.504, VALID ACC: 85.169%\n",
      "epoch: 86/100\n",
      "<torch.utils.data.dataloader.DataLoader object at 0x000001CB8756F5E0>\n",
      "TRAIN ERR: 0.083, TRAIN ACC: 97.125%\n",
      "VALID ERR: 0.495, VALID ACC: 85.119%\n",
      "epoch: 87/100\n",
      "<torch.utils.data.dataloader.DataLoader object at 0x000001CB8756F5E0>\n",
      "TRAIN ERR: 0.059, TRAIN ACC: 98.625%\n",
      "VALID ERR: 0.510, VALID ACC: 85.665%\n",
      "epoch: 88/100\n",
      "<torch.utils.data.dataloader.DataLoader object at 0x000001CB8756F5E0>\n",
      "TRAIN ERR: 0.059, TRAIN ACC: 98.250%\n",
      "VALID ERR: 0.517, VALID ACC: 85.615%\n",
      "epoch: 89/100\n",
      "<torch.utils.data.dataloader.DataLoader object at 0x000001CB8756F5E0>\n",
      "TRAIN ERR: 0.057, TRAIN ACC: 98.250%\n",
      "VALID ERR: 0.514, VALID ACC: 85.714%\n",
      "epoch: 90/100\n",
      "<torch.utils.data.dataloader.DataLoader object at 0x000001CB8756F5E0>\n",
      "TRAIN ERR: 0.055, TRAIN ACC: 98.500%\n",
      "VALID ERR: 0.531, VALID ACC: 85.020%\n",
      "epoch: 91/100\n",
      "<torch.utils.data.dataloader.DataLoader object at 0x000001CB8756F5E0>\n",
      "TRAIN ERR: 0.047, TRAIN ACC: 98.250%\n",
      "VALID ERR: 0.518, VALID ACC: 85.565%\n",
      "epoch: 92/100\n",
      "<torch.utils.data.dataloader.DataLoader object at 0x000001CB8756F5E0>\n",
      "TRAIN ERR: 0.080, TRAIN ACC: 97.500%\n",
      "VALID ERR: 0.536, VALID ACC: 85.268%\n",
      "epoch: 93/100\n",
      "<torch.utils.data.dataloader.DataLoader object at 0x000001CB8756F5E0>\n",
      "TRAIN ERR: 0.056, TRAIN ACC: 98.500%\n",
      "VALID ERR: 0.512, VALID ACC: 85.417%\n",
      "epoch: 94/100\n",
      "<torch.utils.data.dataloader.DataLoader object at 0x000001CB8756F5E0>\n",
      "TRAIN ERR: 0.096, TRAIN ACC: 97.125%\n",
      "VALID ERR: 0.501, VALID ACC: 85.913%\n",
      "epoch: 95/100\n",
      "<torch.utils.data.dataloader.DataLoader object at 0x000001CB8756F5E0>\n",
      "TRAIN ERR: 0.080, TRAIN ACC: 97.375%\n",
      "VALID ERR: 0.501, VALID ACC: 86.111%\n",
      "epoch: 96/100\n",
      "<torch.utils.data.dataloader.DataLoader object at 0x000001CB8756F5E0>\n",
      "TRAIN ERR: 0.057, TRAIN ACC: 98.250%\n",
      "VALID ERR: 0.486, VALID ACC: 85.764%\n",
      "epoch: 97/100\n",
      "<torch.utils.data.dataloader.DataLoader object at 0x000001CB8756F5E0>\n",
      "TRAIN ERR: 0.054, TRAIN ACC: 98.625%\n",
      "VALID ERR: 0.524, VALID ACC: 85.565%\n",
      "epoch: 98/100\n",
      "<torch.utils.data.dataloader.DataLoader object at 0x000001CB8756F5E0>\n",
      "TRAIN ERR: 0.064, TRAIN ACC: 98.000%\n",
      "VALID ERR: 0.489, VALID ACC: 85.962%\n",
      "epoch: 99/100\n",
      "<torch.utils.data.dataloader.DataLoader object at 0x000001CB8756F5E0>\n",
      "TRAIN ERR: 0.056, TRAIN ACC: 98.500%\n",
      "VALID ERR: 0.515, VALID ACC: 85.466%\n",
      "epoch: 100/100\n",
      "<torch.utils.data.dataloader.DataLoader object at 0x000001CB8756F5E0>\n",
      "TRAIN ERR: 0.051, TRAIN ACC: 98.875%\n",
      "VALID ERR: 0.511, VALID ACC: 85.813%\n"
     ]
    }
   ],
   "source": [
    "optimizer = torch.optim.Adam(model_conv.parameters(), lr=1e-6)\n",
    "criterion = torch.nn.CrossEntropyLoss()\n",
    "\n",
    "max_epochs = 100\n",
    "iteration_train_max = 50\n",
    "trainings_error,  validation_error, training_accuracy, validation_accuracy = [], [], [], []\n",
    "\n",
    "for epoch in range(max_epochs):\n",
    "    correct_train = 0\n",
    "    iteration_train = 0\n",
    "    trainings_error_tmp = []\n",
    "    print('epoch: {}/{}'.format(epoch + 1, max_epochs))\n",
    "    print(training_generator)\n",
    "    model_conv.train()\n",
    "    for data_sample, y in training_generator:\n",
    "        data_gpu, y_gpu = data_sample.to(device), y.to(device) #GPU\n",
    "        output = model_conv(data_gpu) #Calculate output of the net\n",
    "        err = criterion(output, y_gpu) #Calculate the error of the prediction\n",
    "        trainings_error_tmp.append(err.item()) #Append error to a temp list\n",
    "        err.backward() #Backpropagation\n",
    "        optimizer.step() #Optimizer\n",
    "\n",
    "        result = torch.argmax(output, dim=1) #Calculate result using ARGMAX\n",
    "        correct_train += (result == y_gpu).sum() #Calculate correct prediction for each step in epoch\n",
    "\n",
    "        iteration_train += 1\n",
    "        if iteration_train >= iteration_train_max:\n",
    "            iteration_train = 0\n",
    "            mean_trainings_error = np.mean(trainings_error_tmp) #Calculate the error mean for this epoch\n",
    "            trainings_error.append(mean_trainings_error) #Append the error mean to a list\n",
    "\n",
    "            #Calculate training accuracy for each epoch\n",
    "            #accuracy_train = correct_train/(training_generator.__len__()*batch_size)\n",
    "            accuracy_train = correct_train/(iteration_train_max*batch_size)\n",
    "            training_accuracy.append(accuracy_train.item()*100)\n",
    "            break\n",
    "\n",
    "    with torch.set_grad_enabled(False):\n",
    "        correct_val = 0\n",
    "        validation_error_tmp = []\n",
    "        model_conv.eval()\n",
    "        for data_sample, y in validation_generator:\n",
    "            data_gpu, y_gpu = data_sample.to(device), y.to(device) #GPU\n",
    "            output = model_conv(data_gpu) #Calculate output of the net\n",
    "            err = criterion(output, y_gpu) #Calculate the error\n",
    "            validation_error_tmp.append(err.item()) #Append error to a temp list\n",
    "            result = torch.argmax(output, dim=1) #Calculate result using ARGMAX\n",
    "            correct_val += (result == y_gpu).sum() #Calculate correct prediction for each step in epoch\n",
    "\n",
    "        #Calculate validation accuracy for each epoch\n",
    "        accuracy_val = correct_val/(validation_generator.__len__()*batch_size_test)\n",
    "        validation_accuracy.append(accuracy_val.item()*100)\n",
    "\n",
    "        #Calculate validation error for each epoch\n",
    "        mean_val_error = np.mean(validation_error_tmp)\n",
    "        validation_error.append(mean_val_error)\n",
    "\n",
    "    print(\"TRAIN ERR: {:.3f}, TRAIN ACC: {:.3f}%\".format(mean_trainings_error, accuracy_train*100))\n",
    "    print(\"VALID ERR: {:.3f}, VALID ACC: {:.3f}%\".format(mean_val_error, accuracy_val*100))"
   ],
   "metadata": {
    "collapsed": false,
    "pycharm": {
     "name": "#%%\n"
    }
   }
  },
  {
   "cell_type": "code",
   "execution_count": 23,
   "outputs": [
    {
     "data": {
      "text/plain": "<Figure size 432x288 with 1 Axes>",
      "image/png": "[encoded data removed]"
     },
     "metadata": {
      "needs_background": "light"
     },
     "output_type": "display_data"
    }
   ],
   "source": [
    "fig = plt.figure()\n",
    "plt.plot(trainings_error, label = 'training error')\n",
    "plt.plot(validation_error, label = 'validation error')\n",
    "plt.legend()\n",
    "plt.show()\n",
    "fig.savefig('train{}h{}.{}.png'.format(date, timeh, timem))"
   ],
   "metadata": {
    "collapsed": false,
    "pycharm": {
     "name": "#%%\n"
    }
   }
  },
  {
   "cell_type": "code",
   "execution_count": 24,
   "outputs": [
    {
     "data": {
      "text/plain": "<Figure size 432x288 with 1 Axes>",
      "image/png": "[encoded data removed]"
     },
     "metadata": {
      "needs_background": "light"
     },
     "output_type": "display_data"
    }
   ],
   "source": [
    "fig = plt.figure()\n",
    "plt.plot(training_accuracy, label = 'training accuracy (%)')\n",
    "plt.plot(validation_accuracy, label = 'validation accuracy (%)')\n",
    "plt.legend()\n",
    "plt.show()\n",
    "fig.savefig('test{}h{}.{}.png'.format(date, timeh, timem))"
   ],
   "metadata": {
    "collapsed": false,
    "pycharm": {
     "name": "#%%\n"
    }
   }
  },
  {
   "cell_type": "markdown",
   "source": [
    "**Testing the model**"
   ],
   "metadata": {
    "collapsed": false
   }
  },
  {
   "cell_type": "code",
   "execution_count": 25,
   "outputs": [
    {
     "name": "stdout",
     "output_type": "stream",
     "text": [
      "Test accuracy: 86.370%\n"
     ]
    }
   ],
   "source": [
    "model_conv.eval()\n",
    "result_test, label_test = [], []\n",
    "for i in test_generator:\n",
    "    data_sample, y = test_set.__getitem__(i)\n",
    "    data_gpu = data_sample.unsqueeze(0).to(device)\n",
    "    output = model_conv(data_gpu)\n",
    "    result = torch.argmax(output)\n",
    "    result_test.append(result.item())\n",
    "    label_test.append(y.item())\n",
    "correct_results = np.array(result_test)==np.array(label_test)\n",
    "sum_correct = np.sum(correct_results)\n",
    "accuracy = sum_correct/test_generator.__len__()\n",
    "print(\"Test accuracy: {:.3f}%\".format(accuracy*100))"
   ],
   "metadata": {
    "collapsed": false,
    "pycharm": {
     "name": "#%%\n"
    }
   }
  },
  {
   "cell_type": "code",
   "execution_count": 26,
   "outputs": [
    {
     "data": {
      "text/plain": "<Figure size 504x504 with 2 Axes>",
      "image/png": "[encoded data removed]"
     },
     "metadata": {
      "needs_background": "light"
     },
     "output_type": "display_data"
    }
   ],
   "source": [
    "fig = plt.figure(figsize = (7,7))\n",
    "cf_matrix = confusion_matrix(label_test, result_test, normalize='true')\n",
    "ax = sns.heatmap(cf_matrix, annot=True, cmap='Blues', fmt='.2%', xticklabels=lesion_type_dict, yticklabels=lesion_type_dict)\n",
    "ax.set_title('Confusion matrix on net prediction\\n')\n",
    "ax.set_xlabel('\\nPredicted Lesion Category')\n",
    "ax.set_ylabel('True Lesion Category ')\n",
    "fig.savefig('CONFUSION{}h{}.{}.png'.format(date, timeh, timem))"
   ],
   "metadata": {
    "collapsed": false,
    "pycharm": {
     "name": "#%%\n"
    }
   }
  },
  {
   "cell_type": "code",
   "execution_count": 27,
   "outputs": [],
   "source": [
    "torch.save(model_conv, '../temp1')"
   ],
   "metadata": {
    "collapsed": false,
    "pycharm": {
     "name": "#%%\n"
    }
   }
  }
 ],
 "metadata": {
  "kernelspec": {
   "display_name": "Python 3",
   "language": "python",
   "name": "python3"
  },
  "language_info": {
   "codemirror_mode": {
    "name": "ipython",
    "version": 2
   },
   "file_extension": ".py",
   "mimetype": "text/x-python",
   "name": "python",
   "nbconvert_exporter": "python",
   "pygments_lexer": "ipython2",
   "version": "2.7.6"
  }
 },
 "nbformat": 4,
 "nbformat_minor": 0
}